{
 "cells": [
  {
   "cell_type": "code",
   "execution_count": 37,
   "metadata": {},
   "outputs": [],
   "source": [
    "# This notebook is an example of Pandas chaining using lambda functions that I made to tweak \n",
    "# a blockchain csv output for tax purposes.  This style of coding in pandas avoids the setting with \n",
    "# copy warning, cuts down on memory usage by not assigning intermediate variables and is easily \n",
    "# reproducable with one funtion call.  "
   ]
  },
  {
   "cell_type": "code",
   "execution_count": 38,
   "metadata": {},
   "outputs": [],
   "source": [
    "import datetime\n",
    "import pandas as pd\n",
    "import os\n",
    "import numpy as np"
   ]
  },
  {
   "cell_type": "code",
   "execution_count": 39,
   "metadata": {},
   "outputs": [
    {
     "data": {
      "text/plain": [
       "transfer    130\n",
       "buy          81\n",
       "mint         77\n",
       "deposit       9\n",
       "sell          1\n",
       "Name: txn_type, dtype: int64"
      ]
     },
     "execution_count": 39,
     "metadata": {},
     "output_type": "execute_result"
    }
   ],
   "source": [
    "path = os.path.join(os.getcwd(), \"blockchain_explorer_outputs\")\n",
    "immutable = pd.read_csv(os.path.join(path, 'gamestop_wallet_immutable.csv'))\n",
    "immutable.txn_type.value_counts()"
   ]
  },
  {
   "cell_type": "code",
   "execution_count": 40,
   "metadata": {},
   "outputs": [
    {
     "data": {
      "text/plain": [
       "Index(['txn_id', 'txn_time', 'txn_type', 'from_address', 'to_address',\n",
       "       'token_address', 'collection_name', 'collection_image_uri', 'token_id',\n",
       "       'token_name', 'token_image_uri', 'token_symbol', 'token_quantity',\n",
       "       'usd_amount'],\n",
       "      dtype='object')"
      ]
     },
     "execution_count": 40,
     "metadata": {},
     "output_type": "execute_result"
    }
   ],
   "source": [
    "immutable.columns"
   ]
  },
  {
   "cell_type": "code",
   "execution_count": 41,
   "metadata": {},
   "outputs": [
    {
     "data": {
      "text/html": [
       "<div>\n",
       "<style scoped>\n",
       "    .dataframe tbody tr th:only-of-type {\n",
       "        vertical-align: middle;\n",
       "    }\n",
       "\n",
       "    .dataframe tbody tr th {\n",
       "        vertical-align: top;\n",
       "    }\n",
       "\n",
       "    .dataframe thead th {\n",
       "        text-align: right;\n",
       "    }\n",
       "</style>\n",
       "<table border=\"1\" class=\"dataframe\">\n",
       "  <thead>\n",
       "    <tr style=\"text-align: right;\">\n",
       "      <th></th>\n",
       "      <th>txn_id</th>\n",
       "      <th>txn_time</th>\n",
       "      <th>txn_type</th>\n",
       "      <th>from_address</th>\n",
       "      <th>to_address</th>\n",
       "      <th>token_address</th>\n",
       "      <th>collection_name</th>\n",
       "      <th>collection_image_uri</th>\n",
       "      <th>token_id</th>\n",
       "      <th>token_name</th>\n",
       "      <th>token_image_uri</th>\n",
       "      <th>token_symbol</th>\n",
       "      <th>token_quantity</th>\n",
       "      <th>usd_amount</th>\n",
       "    </tr>\n",
       "  </thead>\n",
       "  <tbody>\n",
       "    <tr>\n",
       "      <th>0</th>\n",
       "      <td>124991094</td>\n",
       "      <td>2022-10-08T23:02:15.946Z</td>\n",
       "      <td>mint</td>\n",
       "      <td>NaN</td>\n",
       "      <td>NaN</td>\n",
       "      <td>0xacb3c6a43d15b907e8433077b6d38ae40936fe2c</td>\n",
       "      <td>Gods Unchained Cards</td>\n",
       "      <td>https://images.godsunchained.com/misc/gu-sigel...</td>\n",
       "      <td>211056767.0</td>\n",
       "      <td>Lootable Corpse</td>\n",
       "      <td>https://card.godsunchained.com/?id=1681&amp;q=3</td>\n",
       "      <td>NaN</td>\n",
       "      <td>NaN</td>\n",
       "      <td>NaN</td>\n",
       "    </tr>\n",
       "    <tr>\n",
       "      <th>1</th>\n",
       "      <td>124991095</td>\n",
       "      <td>2022-10-08T23:02:15.946Z</td>\n",
       "      <td>mint</td>\n",
       "      <td>NaN</td>\n",
       "      <td>NaN</td>\n",
       "      <td>0xacb3c6a43d15b907e8433077b6d38ae40936fe2c</td>\n",
       "      <td>Gods Unchained Cards</td>\n",
       "      <td>https://images.godsunchained.com/misc/gu-sigel...</td>\n",
       "      <td>211056768.0</td>\n",
       "      <td>On Her Command</td>\n",
       "      <td>https://card.godsunchained.com/?id=1609&amp;q=4</td>\n",
       "      <td>NaN</td>\n",
       "      <td>NaN</td>\n",
       "      <td>NaN</td>\n",
       "    </tr>\n",
       "    <tr>\n",
       "      <th>2</th>\n",
       "      <td>124991096</td>\n",
       "      <td>2022-10-08T23:02:15.946Z</td>\n",
       "      <td>mint</td>\n",
       "      <td>NaN</td>\n",
       "      <td>NaN</td>\n",
       "      <td>0xacb3c6a43d15b907e8433077b6d38ae40936fe2c</td>\n",
       "      <td>Gods Unchained Cards</td>\n",
       "      <td>https://images.godsunchained.com/misc/gu-sigel...</td>\n",
       "      <td>211056769.0</td>\n",
       "      <td>Surpassing Blast</td>\n",
       "      <td>https://card.godsunchained.com/?id=1527&amp;q=4</td>\n",
       "      <td>NaN</td>\n",
       "      <td>NaN</td>\n",
       "      <td>NaN</td>\n",
       "    </tr>\n",
       "    <tr>\n",
       "      <th>3</th>\n",
       "      <td>124991097</td>\n",
       "      <td>2022-10-08T23:02:15.946Z</td>\n",
       "      <td>mint</td>\n",
       "      <td>NaN</td>\n",
       "      <td>NaN</td>\n",
       "      <td>0xacb3c6a43d15b907e8433077b6d38ae40936fe2c</td>\n",
       "      <td>Gods Unchained Cards</td>\n",
       "      <td>https://images.godsunchained.com/misc/gu-sigel...</td>\n",
       "      <td>211056770.0</td>\n",
       "      <td>Engaged Healer</td>\n",
       "      <td>https://card.godsunchained.com/?id=1504&amp;q=4</td>\n",
       "      <td>NaN</td>\n",
       "      <td>NaN</td>\n",
       "      <td>NaN</td>\n",
       "    </tr>\n",
       "    <tr>\n",
       "      <th>4</th>\n",
       "      <td>124991098</td>\n",
       "      <td>2022-10-08T23:02:15.946Z</td>\n",
       "      <td>mint</td>\n",
       "      <td>NaN</td>\n",
       "      <td>NaN</td>\n",
       "      <td>0xacb3c6a43d15b907e8433077b6d38ae40936fe2c</td>\n",
       "      <td>Gods Unchained Cards</td>\n",
       "      <td>https://images.godsunchained.com/misc/gu-sigel...</td>\n",
       "      <td>211056771.0</td>\n",
       "      <td>Ash Reader</td>\n",
       "      <td>https://card.godsunchained.com/?id=1535&amp;q=4</td>\n",
       "      <td>NaN</td>\n",
       "      <td>NaN</td>\n",
       "      <td>NaN</td>\n",
       "    </tr>\n",
       "  </tbody>\n",
       "</table>\n",
       "</div>"
      ],
      "text/plain": [
       "      txn_id                  txn_time txn_type from_address to_address  \\\n",
       "0  124991094  2022-10-08T23:02:15.946Z     mint          NaN        NaN   \n",
       "1  124991095  2022-10-08T23:02:15.946Z     mint          NaN        NaN   \n",
       "2  124991096  2022-10-08T23:02:15.946Z     mint          NaN        NaN   \n",
       "3  124991097  2022-10-08T23:02:15.946Z     mint          NaN        NaN   \n",
       "4  124991098  2022-10-08T23:02:15.946Z     mint          NaN        NaN   \n",
       "\n",
       "                                token_address       collection_name  \\\n",
       "0  0xacb3c6a43d15b907e8433077b6d38ae40936fe2c  Gods Unchained Cards   \n",
       "1  0xacb3c6a43d15b907e8433077b6d38ae40936fe2c  Gods Unchained Cards   \n",
       "2  0xacb3c6a43d15b907e8433077b6d38ae40936fe2c  Gods Unchained Cards   \n",
       "3  0xacb3c6a43d15b907e8433077b6d38ae40936fe2c  Gods Unchained Cards   \n",
       "4  0xacb3c6a43d15b907e8433077b6d38ae40936fe2c  Gods Unchained Cards   \n",
       "\n",
       "                                collection_image_uri     token_id  \\\n",
       "0  https://images.godsunchained.com/misc/gu-sigel...  211056767.0   \n",
       "1  https://images.godsunchained.com/misc/gu-sigel...  211056768.0   \n",
       "2  https://images.godsunchained.com/misc/gu-sigel...  211056769.0   \n",
       "3  https://images.godsunchained.com/misc/gu-sigel...  211056770.0   \n",
       "4  https://images.godsunchained.com/misc/gu-sigel...  211056771.0   \n",
       "\n",
       "         token_name                              token_image_uri token_symbol  \\\n",
       "0   Lootable Corpse  https://card.godsunchained.com/?id=1681&q=3          NaN   \n",
       "1    On Her Command  https://card.godsunchained.com/?id=1609&q=4          NaN   \n",
       "2  Surpassing Blast  https://card.godsunchained.com/?id=1527&q=4          NaN   \n",
       "3    Engaged Healer  https://card.godsunchained.com/?id=1504&q=4          NaN   \n",
       "4        Ash Reader  https://card.godsunchained.com/?id=1535&q=4          NaN   \n",
       "\n",
       "   token_quantity  usd_amount  \n",
       "0             NaN         NaN  \n",
       "1             NaN         NaN  \n",
       "2             NaN         NaN  \n",
       "3             NaN         NaN  \n",
       "4             NaN         NaN  "
      ]
     },
     "execution_count": 41,
     "metadata": {},
     "output_type": "execute_result"
    }
   ],
   "source": [
    "immutable.head()"
   ]
  },
  {
   "cell_type": "code",
   "execution_count": 42,
   "metadata": {},
   "outputs": [],
   "source": [
    "def tweak_dataframe(df_ = immutable):\n",
    "    \"\"\"Converts immutable csv dataframe into a form acceptable by koinly tax software\"\"\"\n",
    "    def combine_columns(df_, columns:list):\n",
    "        \"\"\"Function to combine calculated fields for specific transaction types\"\"\"\n",
    "        series = df_[columns[0]]\n",
    "        del columns[0]\n",
    "        while len(columns) > 0:\n",
    "            series = series.combine_first(other=df_[columns[0]])\n",
    "            del columns[0]\n",
    "        return series\n",
    "\n",
    "    return (df_\n",
    "    .assign(Date=lambda df_:\n",
    "        pd.to_datetime(df_.txn_time).dt.strftime('%Y-%m-%d %H:%M %Z'))\n",
    "    # dealing with the buy transaction types\n",
    "    .assign(Sent_Amount_Buy=lambda df_: \n",
    "        df_.token_quantity.where(df_.txn_type=='buy', np.nan))\n",
    "    .assign(Sent_Currency_Buy=lambda df_: \n",
    "        df_.token_symbol.where(df_.txn_type=='buy', np.nan))\n",
    "    .assign(Received_Amount_Buy=lambda df_:\n",
    "        np.where(df_.txn_type=='buy', 1, np.nan))\n",
    "    .assign(Received_Currency_Buy=lambda df_:\n",
    "        df_.token_id.where(df_.txn_type=='buy', np.nan))\n",
    "    # dealing with sell transaction types\n",
    "    .assign(Received_Amount_Sell=lambda df_: \n",
    "        df_.token_quantity.where(df_.txn_type=='sell', np.nan))\n",
    "    .assign(Received_Currency_Sell=lambda df_: \n",
    "        df_.token_symbol.where(df_.txn_type=='sell', np.nan))\n",
    "    .assign(Sent_Amount_Sell=lambda df_:\n",
    "        np.where(df_.txn_type=='sell', 1, np.nan))\n",
    "    .assign(Sent_Currency_Sell=lambda df_:\n",
    "        df_.token_id.where(df_.txn_type=='sell', np.nan))\n",
    "    # dealing with mint transaction types\n",
    "    .assign(Received_Amount_Mint=lambda df_:\n",
    "        np.where(df_.txn_type=='mint', 1, np.nan))\n",
    "    .assign(Received_Currency_Mint=lambda df_:\n",
    "        df_.token_id.where(df_.txn_type=='mint', np.nan))\n",
    "    # dealing with transfer transaction types\n",
    "    #   First, dealing with transfers sent from the wallet\n",
    "    .assign(Sent_Amount_Transfer=lambda df_:\n",
    "        df_.token_quantity.where(\n",
    "            (df_.txn_type==\"transfer\")&(~df_.to_address.isna())))\n",
    "    .assign(Sent_Currency_Transfer=lambda df_:\n",
    "        df_.token_symbol.where(\n",
    "            (df_.txn_type==\"transfer\")&(~df_.to_address.isna())))\n",
    "    #   Next, dealing with transfers received by the wallet\n",
    "    .assign(Received_Amount_Transfer=lambda df_:\n",
    "        df_.token_quantity.where(\n",
    "            (df_.txn_type==\"transfer\")&(~df_.from_address.isna())))\n",
    "    .assign(Received_Currency_Transfer=lambda df_:\n",
    "        df_.token_symbol.where(\n",
    "            (df_.txn_type==\"transfer\")&(~df_.from_address.isna())))\n",
    "    # dealing with deposit transaction types\n",
    "    .assign(Received_Amount_Deposit=lambda df_:\n",
    "        df_.token_quantity.where(df_.txn_type==\"deposit\",np.nan))\n",
    "    .assign(Received_Currency_Deposit=lambda df_:\n",
    "        df_.token_symbol.where(df_.txn_type==\"deposit\", np.nan))\n",
    "    # Merging together applicable columns\n",
    "    .assign(Sent_Amount=lambda df_:\n",
    "        combine_columns(df_, columns=[\n",
    "        'Sent_Amount_Buy', 'Sent_Amount_Transfer', 'Sent_Amount_Sell']))\n",
    "    .assign(Sent_Currency=lambda df_:\n",
    "        combine_columns(df_, columns=[\n",
    "        'Sent_Currency_Buy', 'Sent_Currency_Transfer', 'Sent_Currency_Sell']))\n",
    "    .assign(Received_Amount=lambda df_:\n",
    "        combine_columns(df_, columns=[\n",
    "        'Received_Amount_Sell', 'Received_Amount_Transfer', 'Received_Amount_Deposit', \n",
    "        'Received_Amount_Mint']))\n",
    "    .assign(Received_Currency=lambda df_:\n",
    "        combine_columns(df_, columns=[\n",
    "        'Received_Currency_Sell', 'Received_Currency_Transfer', 'Received_Currency_Deposit',\n",
    "        'Received_Currency_Mint']))\n",
    "    # Creating Net_Worth_Currency column\n",
    "    .assign(Net_Worth_Currency = 'USD')\n",
    "    # renaming columns that need no processing\n",
    "    .rename(columns={'txn_id':'TxHash', 'txn_type':'Label', 'usd_amount':'Net Worth Amount'})\n",
    "    # dropping unneeded columns\n",
    "    .drop(columns=['txn_time', 'token_address', 'collection_name', 'collection_image_uri', \n",
    "                   'token_id', 'token_image_uri', 'Sent_Amount_Buy', 'Sent_Currency_Buy',\n",
    "                   'Received_Amount_Sell', 'Received_Currency_Sell', 'Received_Amount_Transfer',\n",
    "                   'Received_Currency_Transfer', 'Sent_Amount_Transfer', 'Sent_Currency_Transfer',\n",
    "                   'Received_Amount_Deposit', 'Received_Currency_Deposit', 'Received_Amount_Buy',\n",
    "                   'Received_Currency_Buy', 'Sent_Amount_Sell', 'Sent_Currency_Sell',\n",
    "                   'Received_Amount_Mint', 'Received_Currency_Mint'])\n",
    "    # Changing all column name underscores to spaces\n",
    "    .rename(columns=lambda c: c.replace('_', ' ')))"
   ]
  },
  {
   "cell_type": "code",
   "execution_count": 43,
   "metadata": {},
   "outputs": [],
   "source": [
    "df = tweak_dataframe(immutable)"
   ]
  },
  {
   "cell_type": "code",
   "execution_count": 44,
   "metadata": {},
   "outputs": [
    {
     "data": {
      "text/plain": [
       "Index(['TxHash', 'Label', 'from address', 'to address', 'token name',\n",
       "       'token symbol', 'token quantity', 'Net Worth Amount', 'Date',\n",
       "       'Sent Amount', 'Sent Currency', 'Received Amount', 'Received Currency',\n",
       "       'Net Worth Currency'],\n",
       "      dtype='object')"
      ]
     },
     "execution_count": 44,
     "metadata": {},
     "output_type": "execute_result"
    }
   ],
   "source": [
    "df.columns"
   ]
  }
 ],
 "metadata": {
  "kernelspec": {
   "display_name": "env",
   "language": "python",
   "name": "python3"
  },
  "language_info": {
   "codemirror_mode": {
    "name": "ipython",
    "version": 3
   },
   "file_extension": ".py",
   "mimetype": "text/x-python",
   "name": "python",
   "nbconvert_exporter": "python",
   "pygments_lexer": "ipython3",
   "version": "3.10.6"
  },
  "orig_nbformat": 4,
  "vscode": {
   "interpreter": {
    "hash": "fc2980ddbd3ea3239c535dc502a264cd984db98272f0c2e1df78d39c36237cac"
   }
  }
 },
 "nbformat": 4,
 "nbformat_minor": 2
}
